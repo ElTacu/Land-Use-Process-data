{
 "cells": [
  {
   "cell_type": "code",
   "execution_count": 11,
   "metadata": {
    "collapsed": false
   },
   "outputs": [
    {
     "name": "stdout",
     "output_type": "stream",
     "text": [
      "Matrix name: wdist\n",
      "wdist\n",
      "Done\n"
     ]
    }
   ],
   "source": [
    "from itertools import product\n",
    "import os,csv\n",
    "import inro.emme.database.emmebank as _bank\n",
    "import easygui as eg\n",
    "\n",
    "def get_path():\n",
    "    path = eg.diropenbox(msg = \"Select bank's folder\", title = None, default = None)\n",
    "    e_path = os.path.join(location_path,\"emmebank\")\n",
    "    return path, e_path\n",
    "\n",
    "def get_matrix(path, e_path, matrix_name):\n",
    "    with _bank.Emmebank(e_path) as bank:\n",
    "        matrices =  bank.matrices()\n",
    "        for matrix in matrices:\n",
    "            if matrix.name == matrix_name:                   \n",
    "                m = matrix.get_data()            \n",
    "                mi = m.indices\n",
    "                full_name = os.path.join(path,\"{}.csv\".format(matrix.name))\n",
    "                with open(full_name,\"wb\") as out_file:\n",
    "                    writer = csv.writer(out_file)\n",
    "                    print matrix.name\n",
    "                    for (x,y) in product(*mi):\n",
    "                        writer.writerow([x,y,m.get(x,y)])\n",
    "\n",
    "    print \"Done\" \n",
    "    \n",
    "path, e_path = get_path()\n",
    "matrix_name = raw_input(\"Matrix name: \")\n",
    "get_matrix(path, e_path, matrix_name)\n"
   ]
  }
 ],
 "metadata": {
  "kernelspec": {
   "display_name": "Python 2",
   "language": "python",
   "name": "python2"
  },
  "language_info": {
   "codemirror_mode": {
    "name": "ipython",
    "version": 2
   },
   "file_extension": ".py",
   "mimetype": "text/x-python",
   "name": "python",
   "nbconvert_exporter": "python",
   "pygments_lexer": "ipython2",
   "version": "2.7.9"
  }
 },
 "nbformat": 4,
 "nbformat_minor": 0
}
